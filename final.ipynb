{
 "cells": [
  {
   "cell_type": "code",
   "execution_count": 1,
   "metadata": {
    "collapsed": false
   },
   "outputs": [
    {
     "name": "stderr",
     "output_type": "stream",
     "text": [
      "Using TensorFlow backend.\n"
     ]
    }
   ],
   "source": [
    "import pandas\n",
    "from keras.models import Sequential\n",
    "from keras.layers import Dense\n",
    "from keras.wrappers.scikit_learn import KerasClassifier\n",
    "from keras.utils import np_utils\n",
    "from sklearn.model_selection import cross_val_score\n",
    "from sklearn.model_selection import KFold\n",
    "from sklearn.preprocessing import LabelEncoder\n",
    "from sklearn.pipeline import Pipeline\n",
    "from scipy.misc import imread\n",
    "from os import listdir\n",
    "from keras.models import Sequential\n",
    "from keras.layers import Dense, Dropout, Activation, Flatten\n",
    "from keras.layers import Convolution2D, MaxPooling2D\n",
    "from keras.utils import np_utils\n",
    "from keras import backend as K\n",
    "import numpy as np\n",
    "from keras.models import load_model"
   ]
  },
  {
   "cell_type": "code",
   "execution_count": 5,
   "metadata": {
    "collapsed": false
   },
   "outputs": [],
   "source": [
    "from keras.models import load_model\n",
    "model=load_model(\"shanya_final.h5\")"
   ]
  },
  {
   "cell_type": "code",
   "execution_count": 6,
   "metadata": {
    "collapsed": false
   },
   "outputs": [
    {
     "name": "stdout",
     "output_type": "stream",
     "text": [
      "apple\n",
      "tomato\n",
      "mango\n",
      "potato\n",
      "wheat\n"
     ]
    }
   ],
   "source": [
    "import scipy\n",
    "import os\n",
    "X=[]                           \n",
    "Y=[]\n",
    "for j in listdir(os.getcwd()+\"/synthetic_data/\"):\n",
    "    for i in listdir(os.getcwd()+\"/synthetic_data/\"+j):\n",
    "        try:\n",
    "            a=scipy.misc.imread(os.getcwd()+\"/synthetic_data/\"+j+\"/\"+i)\n",
    "\n",
    "        except:\n",
    "            continue\n",
    "        else:\n",
    "            #=a.reshape(a.shape[0]*a.shape[1])\n",
    "            X.append(a)\n",
    "            Y.append(j)\n",
    "    print j\n",
    "X=np.array(X)\n",
    "Y=np.array(Y)\n",
    "##############################Y one hot####################\n",
    "encoder = LabelEncoder()\n",
    "encoder.fit(Y)\n",
    "encoded_Y = encoder.transform(Y)\n",
    "# convert integers to dummy variables (i.e. one hot encoded)\n",
    "dummy_y = np_utils.to_categorical(encoded_Y)\n",
    "\n",
    "#########################vars#############################\n",
    "img_rows, img_cols = 200, 200\n",
    "nb_filters = 32\n",
    "pool_size = (2, 2)\n",
    "kernel_size = (3, 3)\n",
    "########################## setup input########################\n",
    "X_train=X\n",
    "Y_train=dummy_y"
   ]
  },
  {
   "cell_type": "code",
   "execution_count": 21,
   "metadata": {
    "collapsed": false
   },
   "outputs": [
    {
     "name": "stdout",
     "output_type": "stream",
     "text": [
      "99.9378192316\n"
     ]
    }
   ],
   "source": [
    "model=load_model(\"shanya_final.h5\")\n",
    "\n",
    "c=0.0\n",
    "for i in range(X_train.shape[0]):\n",
    "    a=model.predict(X_train[i].reshape(1,28,28,3))\n",
    "    a=np.argmax(a)\n",
    "    if(a==np.argmax(Y_train[i])):\n",
    "        c+=1\n",
    "tot=c/X_train.shape[0]\n",
    "print(tot*100)\n"
   ]
  },
  {
   "cell_type": "code",
   "execution_count": 48,
   "metadata": {
    "collapsed": false
   },
   "outputs": [
    {
     "name": "stdout",
     "output_type": "stream",
     "text": [
      "\n",
      "\n",
      "\n",
      "\n",
      "\n"
     ]
    }
   ],
   "source": [
    "from scipy.misc import imread\n",
    "from os import listdir\n",
    "import os\n",
    "import PIL\n",
    "import numpy as np\n",
    "from PIL import Image\n",
    "new_width=28\n",
    "new_height=28\n",
    "depth=3\n",
    "                          \n",
    "\n",
    "for j in listdir(os.getcwd()+\"/test_data/\"):\n",
    "    try:\n",
    "\n",
    "        img = Image.open(os.getcwd()+\"/test_data/\"+j)\n",
    "        img = img.resize((new_width, new_height), Image.ANTIALIAS)\n",
    "        #print list(img.getdata())\n",
    "        #img=np.reshape(np.array(list(img.getdata())),(new_width,new_height,depth))\n",
    "        img.save(os.getcwd()+\"/test_data/\"+j) \n",
    "\n",
    "    except:\n",
    "        continue\n",
    "    else:\n",
    "        print \"\"\n",
    "\n",
    "\n",
    "\n"
   ]
  },
  {
   "cell_type": "code",
   "execution_count": 49,
   "metadata": {
    "collapsed": false
   },
   "outputs": [
    {
     "data": {
      "image/jpeg": "[encoded data removed]",
      "text/plain": [
       "<IPython.core.display.Image object>"
      ]
     },
     "execution_count": 49,
     "metadata": {},
     "output_type": "execute_result"
    }
   ],
   "source": [
    "from IPython.display import Image \n",
    "n=\"apple.jpeg\"\n",
    "Image(filename=\"test_data/\"+n)\n"
   ]
  },
  {
   "cell_type": "code",
   "execution_count": 50,
   "metadata": {
    "collapsed": false
   },
   "outputs": [
    {
     "data": {
      "text/plain": [
       "array(['apple'],\n",
       "      dtype='|S6')"
      ]
     },
     "execution_count": 50,
     "metadata": {},
     "output_type": "execute_result"
    }
   ],
   "source": [
    "a=scipy.misc.imread(os.getcwd()+\"/test_data/\"+n)\n",
    "encoder.inverse_transform([np.argmax(model.predict(a.reshape(1,28,28,3)))])\n"
   ]
  },
  {
   "cell_type": "code",
   "execution_count": 51,
   "metadata": {
    "collapsed": false,
    "deletable": true,
    "editable": true
   },
   "outputs": [
    {
     "data": {
      "image/jpeg": "[encoded data removed]",
      "text/plain": [
       "<IPython.core.display.Image object>"
      ]
     },
     "execution_count": 51,
     "metadata": {},
     "output_type": "execute_result"
    }
   ],
   "source": [
    "from IPython.display import Image \n",
    "n=\"mango.jpeg\"\n",
    "Image(filename=\"test_data/\"+n)\n"
   ]
  },
  {
   "cell_type": "code",
   "execution_count": 52,
   "metadata": {
    "collapsed": false,
    "deletable": true,
    "editable": true
   },
   "outputs": [
    {
     "data": {
      "text/plain": [
       "array(['mango'],\n",
       "      dtype='|S6')"
      ]
     },
     "execution_count": 52,
     "metadata": {},
     "output_type": "execute_result"
    }
   ],
   "source": [
    "a=scipy.misc.imread(os.getcwd()+\"/test_data/\"+n)\n",
    "encoder.inverse_transform([np.argmax(model.predict(a.reshape(1,28,28,3)))])\n"
   ]
  },
  {
   "cell_type": "code",
   "execution_count": 53,
   "metadata": {
    "collapsed": false,
    "deletable": true,
    "editable": true
   },
   "outputs": [
    {
     "data": {
      "image/jpeg": "[encoded data removed]",
      "text/plain": [
       "<IPython.core.display.Image object>"
      ]
     },
     "execution_count": 53,
     "metadata": {},
     "output_type": "execute_result"
    }
   ],
   "source": [
    "from IPython.display import Image \n",
    "n=\"wheat.jpeg\"\n",
    "Image(filename=\"test_data/\"+n)\n"
   ]
  },
  {
   "cell_type": "code",
   "execution_count": 54,
   "metadata": {
    "collapsed": false,
    "deletable": true,
    "editable": true
   },
   "outputs": [
    {
     "data": {
      "text/plain": [
       "array(['wheat'],\n",
       "      dtype='|S6')"
      ]
     },
     "execution_count": 54,
     "metadata": {},
     "output_type": "execute_result"
    }
   ],
   "source": [
    "a=scipy.misc.imread(os.getcwd()+\"/test_data/\"+n)\n",
    "encoder.inverse_transform([np.argmax(model.predict(a.reshape(1,28,28,3)))])\n"
   ]
  },
  {
   "cell_type": "code",
   "execution_count": 55,
   "metadata": {
    "collapsed": false,
    "deletable": true,
    "editable": true
   },
   "outputs": [
    {
     "data": {
      "image/jpeg": "[encoded data removed]",
      "text/plain": [
       "<IPython.core.display.Image object>"
      ]
     },
     "execution_count": 55,
     "metadata": {},
     "output_type": "execute_result"
    }
   ],
   "source": [
    "from IPython.display import Image \n",
    "n=\"potato.jpeg\"\n",
    "Image(filename=\"test_data/\"+n)\n"
   ]
  },
  {
   "cell_type": "code",
   "execution_count": 56,
   "metadata": {
    "collapsed": false,
    "deletable": true,
    "editable": true
   },
   "outputs": [
    {
     "data": {
      "text/plain": [
       "array(['potato'],\n",
       "      dtype='|S6')"
      ]
     },
     "execution_count": 56,
     "metadata": {},
     "output_type": "execute_result"
    }
   ],
   "source": [
    "a=scipy.misc.imread(os.getcwd()+\"/test_data/\"+n)\n",
    "encoder.inverse_transform([np.argmax(model.predict(a.reshape(1,28,28,3)))])\n"
   ]
  },
  {
   "cell_type": "code",
   "execution_count": 57,
   "metadata": {
    "collapsed": false,
    "deletable": true,
    "editable": true
   },
   "outputs": [
    {
     "data": {
      "image/jpeg": "[encoded data removed]",
      "text/plain": [
       "<IPython.core.display.Image object>"
      ]
     },
     "execution_count": 57,
     "metadata": {},
     "output_type": "execute_result"
    }
   ],
   "source": [
    "from IPython.display import Image \n",
    "n=\"tomato.jpeg\"\n",
    "Image(filename=\"test_data/\"+n)\n"
   ]
  },
  {
   "cell_type": "code",
   "execution_count": 58,
   "metadata": {
    "collapsed": false,
    "deletable": true,
    "editable": true
   },
   "outputs": [
    {
     "data": {
      "text/plain": [
       "array(['tomato'],\n",
       "      dtype='|S6')"
      ]
     },
     "execution_count": 58,
     "metadata": {},
     "output_type": "execute_result"
    }
   ],
   "source": [
    "a=scipy.misc.imread(os.getcwd()+\"/test_data/\"+n)\n",
    "encoder.inverse_transform([np.argmax(model.predict(a.reshape(1,28,28,3)))])\n"
   ]
  }
 ],
 "metadata": {
  "kernelspec": {
   "display_name": "Python 2",
   "language": "python",
   "name": "python2"
  },
  "language_info": {
   "codemirror_mode": {
    "name": "ipython",
    "version": 2
   },
   "file_extension": ".py",
   "mimetype": "text/x-python",
   "name": "python",
   "nbconvert_exporter": "python",
   "pygments_lexer": "ipython2",
   "version": "2.7.13"
  }
 },
 "nbformat": 4,
 "nbformat_minor": 2
}
