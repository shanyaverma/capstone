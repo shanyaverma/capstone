{
 "cells": [
  {
   "cell_type": "code",
   "execution_count": 18,
   "metadata": {
    "collapsed": false,
    "deletable": true,
    "editable": true
   },
   "outputs": [
    {
     "name": "stdout",
     "output_type": "stream",
     "text": [
      "apple\n",
      "\n",
      "\n",
      "\n",
      "mango\n",
      "\n",
      "\n",
      "\n",
      "potato\n",
      "\n",
      "\n",
      "\n",
      "wheat\n",
      "\n",
      "\n",
      "\n",
      "toamato\n",
      "\n",
      "\n",
      "\n"
     ]
    }
   ],
   "source": [
    "from scipy.misc import imread\n",
    "from os import listdir\n",
    "import os\n",
    "import PIL\n",
    "import numpy as np\n",
    "from PIL import Image\n",
    "new_width=28\n",
    "new_height=28\n",
    "depth=3\n",
    "                          \n",
    "for i in listdir(os.getcwd()+\"/original_data/\"):\n",
    "    print i\n",
    "    for j in listdir(os.getcwd()+\"/original_data/\"+i+\"/\"):\n",
    "        try:\n",
    "            \n",
    "            img = Image.open(os.getcwd()+\"/original_data/\"+i+\"/\"+j)\n",
    "            img = img.resize((new_width, new_height), Image.ANTIALIAS)\n",
    "            #print list(img.getdata())\n",
    "            #img=np.reshape(np.array(list(img.getdata())),(new_width,new_height,depth))\n",
    "            img.save(os.getcwd()+\"/original_data/\"+i+\"/\"+j) \n",
    "\n",
    "        except:\n",
    "            continue\n",
    "        else:\n",
    "            print \"\"\n",
    "\n",
    "\n",
    "\n"
   ]
  }
 ],
 "metadata": {
  "kernelspec": {
   "display_name": "Python 2",
   "language": "python",
   "name": "python2"
  },
  "language_info": {
   "codemirror_mode": {
    "name": "ipython",
    "version": 2
   },
   "file_extension": ".py",
   "mimetype": "text/x-python",
   "name": "python",
   "nbconvert_exporter": "python",
   "pygments_lexer": "ipython2",
   "version": "2.7.13"
  }
 },
 "nbformat": 4,
 "nbformat_minor": 2
}
