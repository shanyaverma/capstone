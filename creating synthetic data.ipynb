{
 "cells": [
  {
   "cell_type": "code",
   "execution_count": null,
   "metadata": {
    "collapsed": false,
    "deletable": true,
    "editable": true
   },
   "outputs": [],
   "source": [
    "from keras.preprocessing.image import ImageDataGenerator\n",
    "#from matplotlib import pyplot \n",
    "#from matplotlib.pyplot import imshow\n",
    "#from IPython.display import Image \n",
    "from IPython import display\n",
    "from PIL import Image\n",
    "import numpy as np\n",
    "from scipy.misc import imread\n",
    "from os import listdir\n",
    "import os\n",
    "import PIL\n",
    "import numpy as np\n",
    "from PIL import Image\n",
    "new_width=28\n",
    "new_height=28\n",
    "depth=3\n",
    "                          \n",
    "for p in listdir(os.getcwd()+\"/original_data/\"):\n",
    "    print p\n",
    "    for o in listdir(os.getcwd()+\"/original_data/\"+p+\"/\"):\n",
    "        try:\n",
    "            X=[]\n",
    "            a=imread(os.getcwd()+\"/original_data/\"+p+\"/\"+o)\n",
    "            X.append(a)\n",
    "            X=np.array(X)\n",
    "            Y=[]\n",
    "            Y.append(1)\n",
    "            Y=np.array(Y)\n",
    "            for q in range(1500):\n",
    "                for i in range(0, 2):\n",
    "                    #pyplot.subplot(330 + 1 + i)\n",
    "                    datagen = ImageDataGenerator(\n",
    "                        rotation_range=180,\n",
    "                        width_shift_range=0.1,\n",
    "                        height_shift_range=0.1,\n",
    "                        shear_range=0.1,\n",
    "                        zoom_range=0.3,\n",
    "                        horizontal_flip=True,\n",
    "                        fill_mode='nearest')\n",
    "                # fit parameters from data\n",
    "                    datagen.fit(X)\n",
    "                    for X_batch, Y_batch in datagen.flow(X, Y, batch_size=1):\n",
    "                        # create a grid of 3x3 images\n",
    "\n",
    "                        for j in range(0, 1):\n",
    "                            #%matplotlib inline\n",
    "                            img=Image.fromarray(X_batch[j].astype('uint8'),'RGB')\n",
    "                            #imshow(np.asarray(img))\n",
    "                            img.save(os.getcwd()+\"/synthetic_data/\"+p+\"/1\"+str(q)+o) \n",
    "\n",
    "                            #Image(X_batch[j].reshape(a.shape[0],a.shape[1],a.shape[2])))\n",
    "                            #pyplot.imshow(X_batch[j].reshape(a.shape[0],a.shape[1],a.shape[2]))\n",
    "                            # show the plot\n",
    "                            #pyplot.show()\n",
    "                        break\n",
    "\n",
    "\n",
    "        except:\n",
    "            continue\n",
    "        else:\n",
    "            print \"\"\n",
    "\n"
   ]
  }
 ],
 "metadata": {
  "kernelspec": {
   "display_name": "Python 2",
   "language": "python",
   "name": "python2"
  },
  "language_info": {
   "codemirror_mode": {
    "name": "ipython",
    "version": 2
   },
   "file_extension": ".py",
   "mimetype": "text/x-python",
   "name": "python",
   "nbconvert_exporter": "python",
   "pygments_lexer": "ipython2",
   "version": "2.7.13"
  }
 },
 "nbformat": 4,
 "nbformat_minor": 2
}
